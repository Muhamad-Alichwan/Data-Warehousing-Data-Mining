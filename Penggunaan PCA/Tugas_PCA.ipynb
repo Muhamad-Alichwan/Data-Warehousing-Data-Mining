{
 "cells": [
  {
   "cell_type": "code",
   "execution_count": 1,
   "id": "851eb555",
   "metadata": {},
   "outputs": [],
   "source": [
    "#Import Library\n",
    "import numpy as np\n",
    "import pandas as pd\n",
    "import matplotlib.pyplot as plt\n",
    "import seaborn as sns\n",
    "from sklearn.decomposition import PCA"
   ]
  },
  {
   "cell_type": "code",
   "execution_count": 2,
   "id": "9ddbfa81",
   "metadata": {},
   "outputs": [
    {
     "name": "stdout",
     "output_type": "stream",
     "text": [
      "        id  id_android      speed      time  distance  rating  rating_bus  \\\n",
      "0        1           0  19.210586  0.138049     2.652       3           0   \n",
      "1        2           0  30.848229  0.171485     5.290       3           0   \n",
      "2        3           1  13.560101  0.067699     0.918       3           0   \n",
      "3        4           1  19.766679  0.389544     7.700       3           0   \n",
      "4        8           0  25.807401  0.154801     3.995       2           0   \n",
      "..     ...         ...        ...       ...       ...     ...         ...   \n",
      "158  38081          24  30.051732  0.218756     6.574       2           0   \n",
      "159  38082          24  30.173788  0.255387     7.706       3           0   \n",
      "160  38084          25   1.153772  0.013001     0.015       1           3   \n",
      "161  38090          26   0.843223  0.007116     0.006       3           1   \n",
      "162  38092          27   1.372998  0.016752     0.023       3           1   \n",
      "\n",
      "     rating_weather  car_or_bus                        linha  \n",
      "0                 0           1                          NaN  \n",
      "1                 0           1                          NaN  \n",
      "2                 0           2                          NaN  \n",
      "3                 0           2                          NaN  \n",
      "4                 0           1                          NaN  \n",
      "..              ...         ...                          ...  \n",
      "158               0           1                        carro  \n",
      "159               0           1                        carro  \n",
      "160               2           2  721 - CASTELO BRANCO SUISSA  \n",
      "161               2           2    002 - FERNANDO COLLOR DIA  \n",
      "162               2           2     060 - PADRE PEDRO CAMPUS  \n",
      "\n",
      "[163 rows x 10 columns]\n"
     ]
    }
   ],
   "source": [
    "data=pd.read_csv('go_track_tracks.csv')\n",
    "print(data)"
   ]
  },
  {
   "cell_type": "code",
   "execution_count": 3,
   "id": "5216a0c4",
   "metadata": {},
   "outputs": [
    {
     "name": "stdout",
     "output_type": "stream",
     "text": [
      "<class 'pandas.core.frame.DataFrame'>\n",
      "RangeIndex: 163 entries, 0 to 162\n",
      "Data columns (total 10 columns):\n",
      " #   Column          Non-Null Count  Dtype  \n",
      "---  ------          --------------  -----  \n",
      " 0   id              163 non-null    int64  \n",
      " 1   id_android      163 non-null    int64  \n",
      " 2   speed           163 non-null    float64\n",
      " 3   time            163 non-null    float64\n",
      " 4   distance        163 non-null    float64\n",
      " 5   rating          163 non-null    int64  \n",
      " 6   rating_bus      163 non-null    int64  \n",
      " 7   rating_weather  163 non-null    int64  \n",
      " 8   car_or_bus      163 non-null    int64  \n",
      " 9   linha           80 non-null     object \n",
      "dtypes: float64(3), int64(6), object(1)\n",
      "memory usage: 12.9+ KB\n"
     ]
    }
   ],
   "source": [
    "data.info()"
   ]
  },
  {
   "cell_type": "code",
   "execution_count": 4,
   "id": "c34f22c9",
   "metadata": {},
   "outputs": [
    {
     "name": "stdout",
     "output_type": "stream",
     "text": [
      "        id  id_android      speed      time  distance  rating  rating_bus  \\\n",
      "0        1           0  19.210586  0.138049     2.652       3           0   \n",
      "1        2           0  30.848229  0.171485     5.290       3           0   \n",
      "2        3           1  13.560101  0.067699     0.918       3           0   \n",
      "3        4           1  19.766679  0.389544     7.700       3           0   \n",
      "4        8           0  25.807401  0.154801     3.995       2           0   \n",
      "..     ...         ...        ...       ...       ...     ...         ...   \n",
      "158  38081          24  30.051732  0.218756     6.574       2           0   \n",
      "159  38082          24  30.173788  0.255387     7.706       3           0   \n",
      "160  38084          25   1.153772  0.013001     0.015       1           3   \n",
      "161  38090          26   0.843223  0.007116     0.006       3           1   \n",
      "162  38092          27   1.372998  0.016752     0.023       3           1   \n",
      "\n",
      "     rating_weather  car_or_bus  \n",
      "0                 0           1  \n",
      "1                 0           1  \n",
      "2                 0           2  \n",
      "3                 0           2  \n",
      "4                 0           1  \n",
      "..              ...         ...  \n",
      "158               0           1  \n",
      "159               0           1  \n",
      "160               2           2  \n",
      "161               2           2  \n",
      "162               2           2  \n",
      "\n",
      "[163 rows x 9 columns]\n"
     ]
    }
   ],
   "source": [
    "X = data.drop(columns=['linha'])\n",
    "print(X)"
   ]
  },
  {
   "attachments": {},
   "cell_type": "markdown",
   "id": "2770ad13",
   "metadata": {},
   "source": [
    "## 1. Tentukan berapa jumlah fitur input yang digunakan untuk PCA. Bagaimana cara anda mendapatkan nilai tersebut ?\n",
    "## jawab : Jumlah fitur yang digunakan untuk PCA adalah  fitur ini dikarekan fitur \"linha\" tidak berpengaruh dalam permodelan PCA."
   ]
  },
  {
   "cell_type": "code",
   "execution_count": 5,
   "id": "4e21fb3c",
   "metadata": {},
   "outputs": [
    {
     "name": "stdout",
     "output_type": "stream",
     "text": [
      "Jumlah fitur input: 9 fitur\n"
     ]
    }
   ],
   "source": [
    "num_features = X.shape[1]\n",
    "print(f\"Jumlah fitur input: {num_features} fitur\")"
   ]
  },
  {
   "attachments": {},
   "cell_type": "markdown",
   "id": "6e9f588d",
   "metadata": {},
   "source": [
    "## 2. Tuliskan algoritma PCA dengan n_components sebesar jumlah fitur input. "
   ]
  },
  {
   "cell_type": "code",
   "execution_count": 6,
   "id": "3542d369",
   "metadata": {},
   "outputs": [
    {
     "data": {
      "text/html": [
       "<style>#sk-container-id-1 {color: black;background-color: white;}#sk-container-id-1 pre{padding: 0;}#sk-container-id-1 div.sk-toggleable {background-color: white;}#sk-container-id-1 label.sk-toggleable__label {cursor: pointer;display: block;width: 100%;margin-bottom: 0;padding: 0.3em;box-sizing: border-box;text-align: center;}#sk-container-id-1 label.sk-toggleable__label-arrow:before {content: \"▸\";float: left;margin-right: 0.25em;color: #696969;}#sk-container-id-1 label.sk-toggleable__label-arrow:hover:before {color: black;}#sk-container-id-1 div.sk-estimator:hover label.sk-toggleable__label-arrow:before {color: black;}#sk-container-id-1 div.sk-toggleable__content {max-height: 0;max-width: 0;overflow: hidden;text-align: left;background-color: #f0f8ff;}#sk-container-id-1 div.sk-toggleable__content pre {margin: 0.2em;color: black;border-radius: 0.25em;background-color: #f0f8ff;}#sk-container-id-1 input.sk-toggleable__control:checked~div.sk-toggleable__content {max-height: 200px;max-width: 100%;overflow: auto;}#sk-container-id-1 input.sk-toggleable__control:checked~label.sk-toggleable__label-arrow:before {content: \"▾\";}#sk-container-id-1 div.sk-estimator input.sk-toggleable__control:checked~label.sk-toggleable__label {background-color: #d4ebff;}#sk-container-id-1 div.sk-label input.sk-toggleable__control:checked~label.sk-toggleable__label {background-color: #d4ebff;}#sk-container-id-1 input.sk-hidden--visually {border: 0;clip: rect(1px 1px 1px 1px);clip: rect(1px, 1px, 1px, 1px);height: 1px;margin: -1px;overflow: hidden;padding: 0;position: absolute;width: 1px;}#sk-container-id-1 div.sk-estimator {font-family: monospace;background-color: #f0f8ff;border: 1px dotted black;border-radius: 0.25em;box-sizing: border-box;margin-bottom: 0.5em;}#sk-container-id-1 div.sk-estimator:hover {background-color: #d4ebff;}#sk-container-id-1 div.sk-parallel-item::after {content: \"\";width: 100%;border-bottom: 1px solid gray;flex-grow: 1;}#sk-container-id-1 div.sk-label:hover label.sk-toggleable__label {background-color: #d4ebff;}#sk-container-id-1 div.sk-serial::before {content: \"\";position: absolute;border-left: 1px solid gray;box-sizing: border-box;top: 0;bottom: 0;left: 50%;z-index: 0;}#sk-container-id-1 div.sk-serial {display: flex;flex-direction: column;align-items: center;background-color: white;padding-right: 0.2em;padding-left: 0.2em;position: relative;}#sk-container-id-1 div.sk-item {position: relative;z-index: 1;}#sk-container-id-1 div.sk-parallel {display: flex;align-items: stretch;justify-content: center;background-color: white;position: relative;}#sk-container-id-1 div.sk-item::before, #sk-container-id-1 div.sk-parallel-item::before {content: \"\";position: absolute;border-left: 1px solid gray;box-sizing: border-box;top: 0;bottom: 0;left: 50%;z-index: -1;}#sk-container-id-1 div.sk-parallel-item {display: flex;flex-direction: column;z-index: 1;position: relative;background-color: white;}#sk-container-id-1 div.sk-parallel-item:first-child::after {align-self: flex-end;width: 50%;}#sk-container-id-1 div.sk-parallel-item:last-child::after {align-self: flex-start;width: 50%;}#sk-container-id-1 div.sk-parallel-item:only-child::after {width: 0;}#sk-container-id-1 div.sk-dashed-wrapped {border: 1px dashed gray;margin: 0 0.4em 0.5em 0.4em;box-sizing: border-box;padding-bottom: 0.4em;background-color: white;}#sk-container-id-1 div.sk-label label {font-family: monospace;font-weight: bold;display: inline-block;line-height: 1.2em;}#sk-container-id-1 div.sk-label-container {text-align: center;}#sk-container-id-1 div.sk-container {/* jupyter's `normalize.less` sets `[hidden] { display: none; }` but bootstrap.min.css set `[hidden] { display: none !important; }` so we also need the `!important` here to be able to override the default hidden behavior on the sphinx rendered scikit-learn.org. See: https://github.com/scikit-learn/scikit-learn/issues/21755 */display: inline-block !important;position: relative;}#sk-container-id-1 div.sk-text-repr-fallback {display: none;}</style><div id=\"sk-container-id-1\" class=\"sk-top-container\"><div class=\"sk-text-repr-fallback\"><pre>PCA(n_components=9)</pre><b>In a Jupyter environment, please rerun this cell to show the HTML representation or trust the notebook. <br />On GitHub, the HTML representation is unable to render, please try loading this page with nbviewer.org.</b></div><div class=\"sk-container\" hidden><div class=\"sk-item\"><div class=\"sk-estimator sk-toggleable\"><input class=\"sk-toggleable__control sk-hidden--visually\" id=\"sk-estimator-id-1\" type=\"checkbox\" checked><label for=\"sk-estimator-id-1\" class=\"sk-toggleable__label sk-toggleable__label-arrow\">PCA</label><div class=\"sk-toggleable__content\"><pre>PCA(n_components=9)</pre></div></div></div></div></div>"
      ],
      "text/plain": [
       "PCA(n_components=9)"
      ]
     },
     "execution_count": 6,
     "metadata": {},
     "output_type": "execute_result"
    }
   ],
   "source": [
    "pca = PCA(n_components=num_features)\n",
    "pca.fit(X)"
   ]
  },
  {
   "attachments": {},
   "cell_type": "markdown",
   "id": "77e213e4",
   "metadata": {},
   "source": [
    "## 3. Setelah itu, tampilkan nilai varience ratio untuk setuap principal components. Kemudian, tentukan ada berapa fitur independen yang dapat memenuhi 90% cumulative variance ratio."
   ]
  },
  {
   "cell_type": "code",
   "execution_count": 7,
   "id": "99d141dd",
   "metadata": {},
   "outputs": [
    {
     "name": "stdout",
     "output_type": "stream",
     "text": [
      "Fitur independen ke- 1 menghasilkan varience ratio sebesar 0.999999\n",
      "Fitur independen ke- 2 menghasilkan varience ratio sebesar 8e-07\n",
      "Fitur independen ke- 3 menghasilkan varience ratio sebesar 1e-07\n",
      "Fitur independen ke- 4 menghasilkan varience ratio sebesar 1e-07\n",
      "Fitur independen ke- 5 menghasilkan varience ratio sebesar 0.0\n",
      "Fitur independen ke- 6 menghasilkan varience ratio sebesar 0.0\n",
      "Fitur independen ke- 7 menghasilkan varience ratio sebesar 0.0\n",
      "Fitur independen ke- 8 menghasilkan varience ratio sebesar 0.0\n",
      "Fitur independen ke- 9 menghasilkan varience ratio sebesar 0.0\n"
     ]
    }
   ],
   "source": [
    "for i,j in enumerate(pca.explained_variance_ratio_):\n",
    "    print(f\"Fitur independen ke- {i+1} menghasilkan varience ratio sebesar {round(j,7)}\")"
   ]
  },
  {
   "cell_type": "code",
   "execution_count": 8,
   "id": "40bc5913",
   "metadata": {},
   "outputs": [
    {
     "name": "stdout",
     "output_type": "stream",
     "text": [
      "Fitur independen ke- 1 menghasilkan varience ratio sebesar 0.999999\n"
     ]
    }
   ],
   "source": [
    "cummulative_varience = 0\n",
    "num_pc = 0\n",
    "for i,j in enumerate(pca.explained_variance_ratio_):\n",
    "    if cummulative_varience < 0.9:\n",
    "        num_pc += 1\n",
    "        cummulative_varience += j\n",
    "        print(f\"Fitur independen ke- {i+1} menghasilkan varience ratio sebesar {round(j,7)}\")"
   ]
  },
  {
   "attachments": {},
   "cell_type": "markdown",
   "id": "3175c284",
   "metadata": {},
   "source": [
    "## 4. Cetaklah Data pada beberapa principal compnents pertama dengan Cumulative Explained Ratio minimal 90%."
   ]
  },
  {
   "cell_type": "code",
   "execution_count": 9,
   "id": "69418052",
   "metadata": {},
   "outputs": [
    {
     "data": {
      "text/html": [
       "<style>#sk-container-id-2 {color: black;background-color: white;}#sk-container-id-2 pre{padding: 0;}#sk-container-id-2 div.sk-toggleable {background-color: white;}#sk-container-id-2 label.sk-toggleable__label {cursor: pointer;display: block;width: 100%;margin-bottom: 0;padding: 0.3em;box-sizing: border-box;text-align: center;}#sk-container-id-2 label.sk-toggleable__label-arrow:before {content: \"▸\";float: left;margin-right: 0.25em;color: #696969;}#sk-container-id-2 label.sk-toggleable__label-arrow:hover:before {color: black;}#sk-container-id-2 div.sk-estimator:hover label.sk-toggleable__label-arrow:before {color: black;}#sk-container-id-2 div.sk-toggleable__content {max-height: 0;max-width: 0;overflow: hidden;text-align: left;background-color: #f0f8ff;}#sk-container-id-2 div.sk-toggleable__content pre {margin: 0.2em;color: black;border-radius: 0.25em;background-color: #f0f8ff;}#sk-container-id-2 input.sk-toggleable__control:checked~div.sk-toggleable__content {max-height: 200px;max-width: 100%;overflow: auto;}#sk-container-id-2 input.sk-toggleable__control:checked~label.sk-toggleable__label-arrow:before {content: \"▾\";}#sk-container-id-2 div.sk-estimator input.sk-toggleable__control:checked~label.sk-toggleable__label {background-color: #d4ebff;}#sk-container-id-2 div.sk-label input.sk-toggleable__control:checked~label.sk-toggleable__label {background-color: #d4ebff;}#sk-container-id-2 input.sk-hidden--visually {border: 0;clip: rect(1px 1px 1px 1px);clip: rect(1px, 1px, 1px, 1px);height: 1px;margin: -1px;overflow: hidden;padding: 0;position: absolute;width: 1px;}#sk-container-id-2 div.sk-estimator {font-family: monospace;background-color: #f0f8ff;border: 1px dotted black;border-radius: 0.25em;box-sizing: border-box;margin-bottom: 0.5em;}#sk-container-id-2 div.sk-estimator:hover {background-color: #d4ebff;}#sk-container-id-2 div.sk-parallel-item::after {content: \"\";width: 100%;border-bottom: 1px solid gray;flex-grow: 1;}#sk-container-id-2 div.sk-label:hover label.sk-toggleable__label {background-color: #d4ebff;}#sk-container-id-2 div.sk-serial::before {content: \"\";position: absolute;border-left: 1px solid gray;box-sizing: border-box;top: 0;bottom: 0;left: 50%;z-index: 0;}#sk-container-id-2 div.sk-serial {display: flex;flex-direction: column;align-items: center;background-color: white;padding-right: 0.2em;padding-left: 0.2em;position: relative;}#sk-container-id-2 div.sk-item {position: relative;z-index: 1;}#sk-container-id-2 div.sk-parallel {display: flex;align-items: stretch;justify-content: center;background-color: white;position: relative;}#sk-container-id-2 div.sk-item::before, #sk-container-id-2 div.sk-parallel-item::before {content: \"\";position: absolute;border-left: 1px solid gray;box-sizing: border-box;top: 0;bottom: 0;left: 50%;z-index: -1;}#sk-container-id-2 div.sk-parallel-item {display: flex;flex-direction: column;z-index: 1;position: relative;background-color: white;}#sk-container-id-2 div.sk-parallel-item:first-child::after {align-self: flex-end;width: 50%;}#sk-container-id-2 div.sk-parallel-item:last-child::after {align-self: flex-start;width: 50%;}#sk-container-id-2 div.sk-parallel-item:only-child::after {width: 0;}#sk-container-id-2 div.sk-dashed-wrapped {border: 1px dashed gray;margin: 0 0.4em 0.5em 0.4em;box-sizing: border-box;padding-bottom: 0.4em;background-color: white;}#sk-container-id-2 div.sk-label label {font-family: monospace;font-weight: bold;display: inline-block;line-height: 1.2em;}#sk-container-id-2 div.sk-label-container {text-align: center;}#sk-container-id-2 div.sk-container {/* jupyter's `normalize.less` sets `[hidden] { display: none; }` but bootstrap.min.css set `[hidden] { display: none !important; }` so we also need the `!important` here to be able to override the default hidden behavior on the sphinx rendered scikit-learn.org. See: https://github.com/scikit-learn/scikit-learn/issues/21755 */display: inline-block !important;position: relative;}#sk-container-id-2 div.sk-text-repr-fallback {display: none;}</style><div id=\"sk-container-id-2\" class=\"sk-top-container\"><div class=\"sk-text-repr-fallback\"><pre>PCA(n_components=1)</pre><b>In a Jupyter environment, please rerun this cell to show the HTML representation or trust the notebook. <br />On GitHub, the HTML representation is unable to render, please try loading this page with nbviewer.org.</b></div><div class=\"sk-container\" hidden><div class=\"sk-item\"><div class=\"sk-estimator sk-toggleable\"><input class=\"sk-toggleable__control sk-hidden--visually\" id=\"sk-estimator-id-2\" type=\"checkbox\" checked><label for=\"sk-estimator-id-2\" class=\"sk-toggleable__label sk-toggleable__label-arrow\">PCA</label><div class=\"sk-toggleable__content\"><pre>PCA(n_components=1)</pre></div></div></div></div></div>"
      ],
      "text/plain": [
       "PCA(n_components=1)"
      ]
     },
     "execution_count": 9,
     "metadata": {},
     "output_type": "execute_result"
    }
   ],
   "source": [
    "pca_reduced = PCA(n_components=num_pc)\n",
    "pca_reduced.fit(X)"
   ]
  }
 ],
 "metadata": {
  "kernelspec": {
   "display_name": "Python 3.11.0 64-bit",
   "language": "python",
   "name": "python3"
  },
  "language_info": {
   "codemirror_mode": {
    "name": "ipython",
    "version": 3
   },
   "file_extension": ".py",
   "mimetype": "text/x-python",
   "name": "python",
   "nbconvert_exporter": "python",
   "pygments_lexer": "ipython3",
   "version": "3.11.0 (main, Oct 24 2022, 18:26:48) [MSC v.1933 64 bit (AMD64)]"
  },
  "vscode": {
   "interpreter": {
    "hash": "c386aa451f4903a7745c6f857b0473cf524d08f9c08c4cc5326dc3ca51075da3"
   }
  }
 },
 "nbformat": 4,
 "nbformat_minor": 5
}
