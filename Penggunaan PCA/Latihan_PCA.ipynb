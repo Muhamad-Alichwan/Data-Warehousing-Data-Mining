{
 "cells": [
  {
   "cell_type": "code",
   "execution_count": 1,
   "id": "851eb555",
   "metadata": {},
   "outputs": [],
   "source": [
    "#Import Library\n",
    "import numpy as np\n",
    "import pandas as pd\n",
    "import matplotlib.pyplot as plt\n",
    "import seaborn as sns\n",
    "from sklearn.decomposition import PCA"
   ]
  },
  {
   "cell_type": "code",
   "execution_count": 2,
   "id": "9ddbfa81",
   "metadata": {},
   "outputs": [
    {
     "name": "stdout",
     "output_type": "stream",
     "text": [
      "      User ID  Category 1  Category 2  Category 3  Category 4  Category 5  \\\n",
      "0      User 1        0.93        1.80        2.29        0.62        0.80   \n",
      "1      User 2        1.02        2.20        2.66        0.64        1.42   \n",
      "2      User 3        1.22        0.80        0.54        0.53        0.24   \n",
      "3      User 4        0.45        1.80        0.29        0.57        0.46   \n",
      "4      User 5        0.51        1.20        1.18        0.57        1.54   \n",
      "..        ...         ...         ...         ...         ...         ...   \n",
      "975  User 976        0.74        1.12        0.30        0.53        0.88   \n",
      "976  User 977        1.25        0.92        1.12        0.38        0.78   \n",
      "977  User 978        0.61        1.32        0.67        0.43        1.30   \n",
      "978  User 979        0.93        0.20        0.13        0.43        0.30   \n",
      "979  User 980        0.93        0.56        1.13        0.51        1.34   \n",
      "\n",
      "     Category 6  Category 7  Category 8  Category 9  Category 10  \n",
      "0          2.42        3.19        2.79        1.82         2.42  \n",
      "1          3.18        3.21        2.63        1.86         2.32  \n",
      "2          1.54        3.18        2.80        1.31         2.50  \n",
      "3          1.52        3.18        2.96        1.57         2.86  \n",
      "4          2.02        3.18        2.78        1.18         2.54  \n",
      "..          ...         ...         ...         ...          ...  \n",
      "975        1.38        3.17        2.78        0.99         3.20  \n",
      "976        1.68        3.18        2.79        1.34         2.80  \n",
      "977        1.78        3.17        2.81        1.34         3.02  \n",
      "978        0.40        3.18        2.98        1.12         2.46  \n",
      "979        2.36        3.18        2.87        1.34         2.40  \n",
      "\n",
      "[980 rows x 11 columns]\n"
     ]
    }
   ],
   "source": [
    "data=pd.read_csv('tripadvisor.csv')\n",
    "print(data)"
   ]
  },
  {
   "cell_type": "code",
   "execution_count": 4,
   "id": "734b645a",
   "metadata": {},
   "outputs": [
    {
     "name": "stdout",
     "output_type": "stream",
     "text": [
      "<class 'pandas.core.frame.DataFrame'>\n",
      "RangeIndex: 980 entries, 0 to 979\n",
      "Data columns (total 11 columns):\n",
      " #   Column       Non-Null Count  Dtype  \n",
      "---  ------       --------------  -----  \n",
      " 0   User ID      980 non-null    object \n",
      " 1   Category 1   980 non-null    float64\n",
      " 2   Category 2   980 non-null    float64\n",
      " 3   Category 3   980 non-null    float64\n",
      " 4   Category 4   980 non-null    float64\n",
      " 5   Category 5   980 non-null    float64\n",
      " 6   Category 6   980 non-null    float64\n",
      " 7   Category 7   980 non-null    float64\n",
      " 8   Category 8   980 non-null    float64\n",
      " 9   Category 9   980 non-null    float64\n",
      " 10  Category 10  980 non-null    float64\n",
      "dtypes: float64(10), object(1)\n",
      "memory usage: 84.3+ KB\n"
     ]
    }
   ],
   "source": [
    "data.info()"
   ]
  },
  {
   "cell_type": "code",
   "execution_count": 3,
   "id": "c34f22c9",
   "metadata": {},
   "outputs": [
    {
     "name": "stdout",
     "output_type": "stream",
     "text": [
      "     Category 1  Category 2  Category 3  Category 4  Category 5  Category 6  \\\n",
      "0          0.93        1.80        2.29        0.62        0.80        2.42   \n",
      "1          1.02        2.20        2.66        0.64        1.42        3.18   \n",
      "2          1.22        0.80        0.54        0.53        0.24        1.54   \n",
      "3          0.45        1.80        0.29        0.57        0.46        1.52   \n",
      "4          0.51        1.20        1.18        0.57        1.54        2.02   \n",
      "..          ...         ...         ...         ...         ...         ...   \n",
      "975        0.74        1.12        0.30        0.53        0.88        1.38   \n",
      "976        1.25        0.92        1.12        0.38        0.78        1.68   \n",
      "977        0.61        1.32        0.67        0.43        1.30        1.78   \n",
      "978        0.93        0.20        0.13        0.43        0.30        0.40   \n",
      "979        0.93        0.56        1.13        0.51        1.34        2.36   \n",
      "\n",
      "     Category 7  Category 8  Category 9  Category 10  \n",
      "0          3.19        2.79        1.82         2.42  \n",
      "1          3.21        2.63        1.86         2.32  \n",
      "2          3.18        2.80        1.31         2.50  \n",
      "3          3.18        2.96        1.57         2.86  \n",
      "4          3.18        2.78        1.18         2.54  \n",
      "..          ...         ...         ...          ...  \n",
      "975        3.17        2.78        0.99         3.20  \n",
      "976        3.18        2.79        1.34         2.80  \n",
      "977        3.17        2.81        1.34         3.02  \n",
      "978        3.18        2.98        1.12         2.46  \n",
      "979        3.18        2.87        1.34         2.40  \n",
      "\n",
      "[980 rows x 10 columns]\n"
     ]
    }
   ],
   "source": [
    "X = data.drop(columns=['User ID'])\n",
    "print(X)"
   ]
  },
  {
   "cell_type": "code",
   "execution_count": 5,
   "id": "4e21fb3c",
   "metadata": {},
   "outputs": [
    {
     "name": "stdout",
     "output_type": "stream",
     "text": [
      "Jumlah fitur input: 10 fitur\n"
     ]
    }
   ],
   "source": [
    "num_features = X.shape[1]\n",
    "print(f\"Jumlah fitur input: {num_features} fitur\")"
   ]
  },
  {
   "cell_type": "code",
   "execution_count": 6,
   "id": "3542d369",
   "metadata": {},
   "outputs": [
    {
     "data": {
      "text/html": [
       "<style>#sk-container-id-1 {color: black;background-color: white;}#sk-container-id-1 pre{padding: 0;}#sk-container-id-1 div.sk-toggleable {background-color: white;}#sk-container-id-1 label.sk-toggleable__label {cursor: pointer;display: block;width: 100%;margin-bottom: 0;padding: 0.3em;box-sizing: border-box;text-align: center;}#sk-container-id-1 label.sk-toggleable__label-arrow:before {content: \"▸\";float: left;margin-right: 0.25em;color: #696969;}#sk-container-id-1 label.sk-toggleable__label-arrow:hover:before {color: black;}#sk-container-id-1 div.sk-estimator:hover label.sk-toggleable__label-arrow:before {color: black;}#sk-container-id-1 div.sk-toggleable__content {max-height: 0;max-width: 0;overflow: hidden;text-align: left;background-color: #f0f8ff;}#sk-container-id-1 div.sk-toggleable__content pre {margin: 0.2em;color: black;border-radius: 0.25em;background-color: #f0f8ff;}#sk-container-id-1 input.sk-toggleable__control:checked~div.sk-toggleable__content {max-height: 200px;max-width: 100%;overflow: auto;}#sk-container-id-1 input.sk-toggleable__control:checked~label.sk-toggleable__label-arrow:before {content: \"▾\";}#sk-container-id-1 div.sk-estimator input.sk-toggleable__control:checked~label.sk-toggleable__label {background-color: #d4ebff;}#sk-container-id-1 div.sk-label input.sk-toggleable__control:checked~label.sk-toggleable__label {background-color: #d4ebff;}#sk-container-id-1 input.sk-hidden--visually {border: 0;clip: rect(1px 1px 1px 1px);clip: rect(1px, 1px, 1px, 1px);height: 1px;margin: -1px;overflow: hidden;padding: 0;position: absolute;width: 1px;}#sk-container-id-1 div.sk-estimator {font-family: monospace;background-color: #f0f8ff;border: 1px dotted black;border-radius: 0.25em;box-sizing: border-box;margin-bottom: 0.5em;}#sk-container-id-1 div.sk-estimator:hover {background-color: #d4ebff;}#sk-container-id-1 div.sk-parallel-item::after {content: \"\";width: 100%;border-bottom: 1px solid gray;flex-grow: 1;}#sk-container-id-1 div.sk-label:hover label.sk-toggleable__label {background-color: #d4ebff;}#sk-container-id-1 div.sk-serial::before {content: \"\";position: absolute;border-left: 1px solid gray;box-sizing: border-box;top: 0;bottom: 0;left: 50%;z-index: 0;}#sk-container-id-1 div.sk-serial {display: flex;flex-direction: column;align-items: center;background-color: white;padding-right: 0.2em;padding-left: 0.2em;position: relative;}#sk-container-id-1 div.sk-item {position: relative;z-index: 1;}#sk-container-id-1 div.sk-parallel {display: flex;align-items: stretch;justify-content: center;background-color: white;position: relative;}#sk-container-id-1 div.sk-item::before, #sk-container-id-1 div.sk-parallel-item::before {content: \"\";position: absolute;border-left: 1px solid gray;box-sizing: border-box;top: 0;bottom: 0;left: 50%;z-index: -1;}#sk-container-id-1 div.sk-parallel-item {display: flex;flex-direction: column;z-index: 1;position: relative;background-color: white;}#sk-container-id-1 div.sk-parallel-item:first-child::after {align-self: flex-end;width: 50%;}#sk-container-id-1 div.sk-parallel-item:last-child::after {align-self: flex-start;width: 50%;}#sk-container-id-1 div.sk-parallel-item:only-child::after {width: 0;}#sk-container-id-1 div.sk-dashed-wrapped {border: 1px dashed gray;margin: 0 0.4em 0.5em 0.4em;box-sizing: border-box;padding-bottom: 0.4em;background-color: white;}#sk-container-id-1 div.sk-label label {font-family: monospace;font-weight: bold;display: inline-block;line-height: 1.2em;}#sk-container-id-1 div.sk-label-container {text-align: center;}#sk-container-id-1 div.sk-container {/* jupyter's `normalize.less` sets `[hidden] { display: none; }` but bootstrap.min.css set `[hidden] { display: none !important; }` so we also need the `!important` here to be able to override the default hidden behavior on the sphinx rendered scikit-learn.org. See: https://github.com/scikit-learn/scikit-learn/issues/21755 */display: inline-block !important;position: relative;}#sk-container-id-1 div.sk-text-repr-fallback {display: none;}</style><div id=\"sk-container-id-1\" class=\"sk-top-container\"><div class=\"sk-text-repr-fallback\"><pre>PCA(n_components=10)</pre><b>In a Jupyter environment, please rerun this cell to show the HTML representation or trust the notebook. <br />On GitHub, the HTML representation is unable to render, please try loading this page with nbviewer.org.</b></div><div class=\"sk-container\" hidden><div class=\"sk-item\"><div class=\"sk-estimator sk-toggleable\"><input class=\"sk-toggleable__control sk-hidden--visually\" id=\"sk-estimator-id-1\" type=\"checkbox\" checked><label for=\"sk-estimator-id-1\" class=\"sk-toggleable__label sk-toggleable__label-arrow\">PCA</label><div class=\"sk-toggleable__content\"><pre>PCA(n_components=10)</pre></div></div></div></div></div>"
      ],
      "text/plain": [
       "PCA(n_components=10)"
      ]
     },
     "execution_count": 6,
     "metadata": {},
     "output_type": "execute_result"
    }
   ],
   "source": [
    "pca = PCA(n_components=num_features)\n",
    "pca.fit(X)"
   ]
  },
  {
   "cell_type": "code",
   "execution_count": 7,
   "id": "99d141dd",
   "metadata": {},
   "outputs": [
    {
     "name": "stdout",
     "output_type": "stream",
     "text": [
      "Fitur independen ke- 1 menghasilkan varience ratio sebesar 0.4252009\n",
      "Fitur independen ke- 2 menghasilkan varience ratio sebesar 0.1772314\n",
      "Fitur independen ke- 3 menghasilkan varience ratio sebesar 0.1245329\n",
      "Fitur independen ke- 4 menghasilkan varience ratio sebesar 0.0731861\n",
      "Fitur independen ke- 5 menghasilkan varience ratio sebesar 0.0693468\n",
      "Fitur independen ke- 6 menghasilkan varience ratio sebesar 0.0538007\n",
      "Fitur independen ke- 7 menghasilkan varience ratio sebesar 0.0412973\n",
      "Fitur independen ke- 8 menghasilkan varience ratio sebesar 0.0258732\n",
      "Fitur independen ke- 9 menghasilkan varience ratio sebesar 0.0095227\n",
      "Fitur independen ke- 10 menghasilkan varience ratio sebesar 8e-06\n"
     ]
    }
   ],
   "source": [
    "for i,j in enumerate(pca.explained_variance_ratio_):\n",
    "    print(f\"Fitur independen ke- {i+1} menghasilkan varience ratio sebesar {round(j,7)}\")"
   ]
  },
  {
   "cell_type": "code",
   "execution_count": 8,
   "id": "40bc5913",
   "metadata": {},
   "outputs": [
    {
     "name": "stdout",
     "output_type": "stream",
     "text": [
      "Fitur independen ke- 1 menghasilkan varience ratio sebesar 0.4252009\n",
      "Fitur independen ke- 2 menghasilkan varience ratio sebesar 0.1772314\n",
      "Fitur independen ke- 3 menghasilkan varience ratio sebesar 0.1245329\n",
      "Fitur independen ke- 4 menghasilkan varience ratio sebesar 0.0731861\n",
      "Fitur independen ke- 5 menghasilkan varience ratio sebesar 0.0693468\n",
      "Fitur independen ke- 6 menghasilkan varience ratio sebesar 0.0538007\n"
     ]
    }
   ],
   "source": [
    "cummulative_varience = 0\n",
    "num_pc = 0\n",
    "for i,j in enumerate(pca.explained_variance_ratio_):\n",
    "    if cummulative_varience < 0.9:\n",
    "        num_pc += 1\n",
    "        cummulative_varience += j\n",
    "        print(f\"Fitur independen ke- {i+1} menghasilkan varience ratio sebesar {round(j,7)}\")"
   ]
  },
  {
   "cell_type": "code",
   "execution_count": 9,
   "id": "69418052",
   "metadata": {},
   "outputs": [
    {
     "data": {
      "text/html": [
       "<style>#sk-container-id-2 {color: black;background-color: white;}#sk-container-id-2 pre{padding: 0;}#sk-container-id-2 div.sk-toggleable {background-color: white;}#sk-container-id-2 label.sk-toggleable__label {cursor: pointer;display: block;width: 100%;margin-bottom: 0;padding: 0.3em;box-sizing: border-box;text-align: center;}#sk-container-id-2 label.sk-toggleable__label-arrow:before {content: \"▸\";float: left;margin-right: 0.25em;color: #696969;}#sk-container-id-2 label.sk-toggleable__label-arrow:hover:before {color: black;}#sk-container-id-2 div.sk-estimator:hover label.sk-toggleable__label-arrow:before {color: black;}#sk-container-id-2 div.sk-toggleable__content {max-height: 0;max-width: 0;overflow: hidden;text-align: left;background-color: #f0f8ff;}#sk-container-id-2 div.sk-toggleable__content pre {margin: 0.2em;color: black;border-radius: 0.25em;background-color: #f0f8ff;}#sk-container-id-2 input.sk-toggleable__control:checked~div.sk-toggleable__content {max-height: 200px;max-width: 100%;overflow: auto;}#sk-container-id-2 input.sk-toggleable__control:checked~label.sk-toggleable__label-arrow:before {content: \"▾\";}#sk-container-id-2 div.sk-estimator input.sk-toggleable__control:checked~label.sk-toggleable__label {background-color: #d4ebff;}#sk-container-id-2 div.sk-label input.sk-toggleable__control:checked~label.sk-toggleable__label {background-color: #d4ebff;}#sk-container-id-2 input.sk-hidden--visually {border: 0;clip: rect(1px 1px 1px 1px);clip: rect(1px, 1px, 1px, 1px);height: 1px;margin: -1px;overflow: hidden;padding: 0;position: absolute;width: 1px;}#sk-container-id-2 div.sk-estimator {font-family: monospace;background-color: #f0f8ff;border: 1px dotted black;border-radius: 0.25em;box-sizing: border-box;margin-bottom: 0.5em;}#sk-container-id-2 div.sk-estimator:hover {background-color: #d4ebff;}#sk-container-id-2 div.sk-parallel-item::after {content: \"\";width: 100%;border-bottom: 1px solid gray;flex-grow: 1;}#sk-container-id-2 div.sk-label:hover label.sk-toggleable__label {background-color: #d4ebff;}#sk-container-id-2 div.sk-serial::before {content: \"\";position: absolute;border-left: 1px solid gray;box-sizing: border-box;top: 0;bottom: 0;left: 50%;z-index: 0;}#sk-container-id-2 div.sk-serial {display: flex;flex-direction: column;align-items: center;background-color: white;padding-right: 0.2em;padding-left: 0.2em;position: relative;}#sk-container-id-2 div.sk-item {position: relative;z-index: 1;}#sk-container-id-2 div.sk-parallel {display: flex;align-items: stretch;justify-content: center;background-color: white;position: relative;}#sk-container-id-2 div.sk-item::before, #sk-container-id-2 div.sk-parallel-item::before {content: \"\";position: absolute;border-left: 1px solid gray;box-sizing: border-box;top: 0;bottom: 0;left: 50%;z-index: -1;}#sk-container-id-2 div.sk-parallel-item {display: flex;flex-direction: column;z-index: 1;position: relative;background-color: white;}#sk-container-id-2 div.sk-parallel-item:first-child::after {align-self: flex-end;width: 50%;}#sk-container-id-2 div.sk-parallel-item:last-child::after {align-self: flex-start;width: 50%;}#sk-container-id-2 div.sk-parallel-item:only-child::after {width: 0;}#sk-container-id-2 div.sk-dashed-wrapped {border: 1px dashed gray;margin: 0 0.4em 0.5em 0.4em;box-sizing: border-box;padding-bottom: 0.4em;background-color: white;}#sk-container-id-2 div.sk-label label {font-family: monospace;font-weight: bold;display: inline-block;line-height: 1.2em;}#sk-container-id-2 div.sk-label-container {text-align: center;}#sk-container-id-2 div.sk-container {/* jupyter's `normalize.less` sets `[hidden] { display: none; }` but bootstrap.min.css set `[hidden] { display: none !important; }` so we also need the `!important` here to be able to override the default hidden behavior on the sphinx rendered scikit-learn.org. See: https://github.com/scikit-learn/scikit-learn/issues/21755 */display: inline-block !important;position: relative;}#sk-container-id-2 div.sk-text-repr-fallback {display: none;}</style><div id=\"sk-container-id-2\" class=\"sk-top-container\"><div class=\"sk-text-repr-fallback\"><pre>PCA(n_components=6)</pre><b>In a Jupyter environment, please rerun this cell to show the HTML representation or trust the notebook. <br />On GitHub, the HTML representation is unable to render, please try loading this page with nbviewer.org.</b></div><div class=\"sk-container\" hidden><div class=\"sk-item\"><div class=\"sk-estimator sk-toggleable\"><input class=\"sk-toggleable__control sk-hidden--visually\" id=\"sk-estimator-id-2\" type=\"checkbox\" checked><label for=\"sk-estimator-id-2\" class=\"sk-toggleable__label sk-toggleable__label-arrow\">PCA</label><div class=\"sk-toggleable__content\"><pre>PCA(n_components=6)</pre></div></div></div></div></div>"
      ],
      "text/plain": [
       "PCA(n_components=6)"
      ]
     },
     "execution_count": 9,
     "metadata": {},
     "output_type": "execute_result"
    }
   ],
   "source": [
    "pca_reduced = PCA(n_components=num_pc)\n",
    "pca_reduced.fit(X)"
   ]
  }
 ],
 "metadata": {
  "kernelspec": {
   "display_name": "Python 3.11.0 64-bit",
   "language": "python",
   "name": "python3"
  },
  "language_info": {
   "codemirror_mode": {
    "name": "ipython",
    "version": 3
   },
   "file_extension": ".py",
   "mimetype": "text/x-python",
   "name": "python",
   "nbconvert_exporter": "python",
   "pygments_lexer": "ipython3",
   "version": "3.11.0 (main, Oct 24 2022, 18:26:48) [MSC v.1933 64 bit (AMD64)]"
  },
  "vscode": {
   "interpreter": {
    "hash": "c386aa451f4903a7745c6f857b0473cf524d08f9c08c4cc5326dc3ca51075da3"
   }
  }
 },
 "nbformat": 4,
 "nbformat_minor": 5
}
